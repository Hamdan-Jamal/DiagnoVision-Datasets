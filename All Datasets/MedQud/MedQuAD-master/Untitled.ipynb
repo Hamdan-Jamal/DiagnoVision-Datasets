{
 "cells": [
  {
   "cell_type": "code",
   "execution_count": 1,
   "id": "2a1b0b6c-cea1-4cb2-818a-ea8465fb33c2",
   "metadata": {},
   "outputs": [
    {
     "name": "stdout",
     "output_type": "stream",
     "text": [
      "Filtered questions and answers saved to filtered_questions_answers.csv\n"
     ]
    }
   ],
   "source": [
    "import os\n",
    "import xml.etree.ElementTree as ET\n",
    "\n",
    "# Define keywords to filter\n",
    "keywords = [\"acne\", \"eczema\", \"psoriasis\"]\n",
    "\n",
    "# Directory containing the XML files\n",
    "directory = r\"D:\\FYP\\datasets\\Github\\All Datasets\\MedQud\\MedQuAD-master\\4_MPlus_Health_Topics_QA\"\n",
    "\n",
    "# Output list for filtered questions and answers\n",
    "filtered_qa = []\n",
    "\n",
    "# Function to process each file\n",
    "def process_file(file_path):\n",
    "    try:\n",
    "        # Parse the XML file\n",
    "        tree = ET.parse(file_path)\n",
    "        root = tree.getroot()\n",
    "\n",
    "        # Iterate through QAPairs in the XML\n",
    "        for qa_pair in root.findall(\".//QAPair\"):\n",
    "            question = qa_pair.find(\"Question\").text.strip()\n",
    "            answer = qa_pair.find(\"Answer\").text.strip()\n",
    "\n",
    "            # Check if the question or answer contains any keyword\n",
    "            if any(keyword.lower() in question.lower() or keyword.lower() in answer.lower() for keyword in keywords):\n",
    "                filtered_qa.append({\"file\": os.path.basename(file_path), \"question\": question, \"answer\": answer})\n",
    "    except Exception as e:\n",
    "        print(f\"Error processing file {file_path}: {e}\")\n",
    "\n",
    "# Process all XML files in the directory\n",
    "for file_name in os.listdir(directory):\n",
    "    if file_name.endswith(\".xml\"):\n",
    "        process_file(os.path.join(directory, file_name))\n",
    "\n",
    "# Save the results to a CSV file\n",
    "import pandas as pd\n",
    "output_file = \"filtered_questions_answers.csv\"\n",
    "df = pd.DataFrame(filtered_qa)\n",
    "df.to_csv(output_file, index=False)\n",
    "\n",
    "print(f\"Filtered questions and answers saved to {output_file}\")\n"
   ]
  }
 ],
 "metadata": {
  "kernelspec": {
   "display_name": "Python 3 (ipykernel)",
   "language": "python",
   "name": "python3"
  },
  "language_info": {
   "codemirror_mode": {
    "name": "ipython",
    "version": 3
   },
   "file_extension": ".py",
   "mimetype": "text/x-python",
   "name": "python",
   "nbconvert_exporter": "python",
   "pygments_lexer": "ipython3",
   "version": "3.12.5"
  }
 },
 "nbformat": 4,
 "nbformat_minor": 5
}
