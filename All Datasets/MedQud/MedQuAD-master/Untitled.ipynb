{
 "cells": [
  {
   "cell_type": "code",
   "execution_count": 16,
   "id": "2a1b0b6c-cea1-4cb2-818a-ea8465fb33c2",
   "metadata": {},
   "outputs": [
    {
     "name": "stdout",
     "output_type": "stream",
     "text": [
      "Filtered data saved to filtered_acne_psoriasis_eczema.xlsx\n"
     ]
    }
   ],
   "source": [
    "import os\n",
    "import xml.etree.ElementTree as ET\n",
    "import pandas as pd\n",
    "\n",
    "# Directory containing the XML files\n",
    "directory = r'D:\\FYP\\datasets\\Github\\All Datasets\\MedQud\\MedQuAD-master\\9_CDC_QA'\n",
    "\n",
    "# Keywords for filtering\n",
    "keywords = [\"Diphtheria\", \"psoriasis\", \"eczema\"]  # Ensure keywords are in lowercase\n",
    "\n",
    "# List to store the filtered Q&A\n",
    "filtered_data = []\n",
    "\n",
    "# Iterate through all files in the directory\n",
    "for filename in os.listdir(directory):\n",
    "    if filename.endswith('.xml'):\n",
    "        filepath = os.path.join(directory, filename)\n",
    "        try:\n",
    "            tree = ET.parse(filepath)\n",
    "            root = tree.getroot()\n",
    "\n",
    "            # Iterate through QAPairs in the XML\n",
    "            for qapair in root.findall(\".//QAPair\"):\n",
    "                question = qapair.find(\"Question\").text or \"\"\n",
    "                answer = qapair.find(\"Answer\").text or \"\"\n",
    "\n",
    "                # Case-insensitive search for keywords\n",
    "                if any(keyword in (question.lower() + answer.lower()) for keyword in keywords):\n",
    "                    filtered_data.append({\"File\": filename, \"Question\": question, \"Answer\": answer})\n",
    "\n",
    "        except Exception as e:\n",
    "            print(f\"Error reading {filename}: {e}\")\n",
    "\n",
    "# Convert the filtered data to a DataFrame\n",
    "df = pd.DataFrame(filtered_data)\n",
    "\n",
    "# Save to an Excel file\n",
    "output_file = \"filtered_acne_psoriasis_eczema.xlsx\"\n",
    "df.to_excel(output_file, index=False)\n",
    "\n",
    "print(f\"Filtered data saved to {output_file}\")\n"
   ]
  }
 ],
 "metadata": {
  "kernelspec": {
   "display_name": "Python 3 (ipykernel)",
   "language": "python",
   "name": "python3"
  },
  "language_info": {
   "codemirror_mode": {
    "name": "ipython",
    "version": 3
   },
   "file_extension": ".py",
   "mimetype": "text/x-python",
   "name": "python",
   "nbconvert_exporter": "python",
   "pygments_lexer": "ipython3",
   "version": "3.12.5"
  }
 },
 "nbformat": 4,
 "nbformat_minor": 5
}
