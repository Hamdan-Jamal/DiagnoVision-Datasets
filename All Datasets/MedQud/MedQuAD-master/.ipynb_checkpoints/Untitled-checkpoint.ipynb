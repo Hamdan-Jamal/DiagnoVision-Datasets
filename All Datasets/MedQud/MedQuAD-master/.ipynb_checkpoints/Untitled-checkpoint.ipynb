{
 "cells": [
  {
   "cell_type": "code",
   "execution_count": 4,
   "id": "2a1b0b6c-cea1-4cb2-818a-ea8465fb33c2",
   "metadata": {},
   "outputs": [
    {
     "name": "stdout",
     "output_type": "stream",
     "text": [
      "Filtered data saved to D:\\FYP\\datasets\\Github\\All Datasets\\MedQud\\MedQuAD-master\\1_CancerGov_QA\\filtered_qa_acne_eczema_psoriasis.xlsx\n"
     ]
    }
   ],
   "source": [
    "import os\n",
    "import pandas as pd\n",
    "from xml.etree import ElementTree as ET\n",
    "\n",
    "def extract_qa_from_xml(file_path):\n",
    "    \"\"\"\n",
    "    Extract Q&A pairs from the given XML file if they contain Acne, Psoriasis, or Eczema.\n",
    "    \"\"\"\n",
    "    tree = ET.parse(file_path)\n",
    "    root = tree.getroot()\n",
    "    \n",
    "    filtered_data = []\n",
    "    for qa_pair in root.findall(\".//QAPair\"):\n",
    "        question = qa_pair.find(\"Question\").text\n",
    "        answer = qa_pair.find(\"Answer\").text\n",
    "        \n",
    "        # Filter by keyword\n",
    "        if any(keyword in (question or \"\").lower() or keyword in (answer or \"\").lower() \n",
    "               for keyword in [\"acne\", \"eczema\", \"psoriasis\"]):\n",
    "            filtered_data.append({\n",
    "                \"File\": os.path.basename(file_path),\n",
    "                \"Question\": question.strip() if question else None,\n",
    "                \"Answer\": answer.strip() if answer else None\n",
    "            })\n",
    "    return filtered_data\n",
    "\n",
    "def process_directory(directory):\n",
    "    \"\"\"\n",
    "    Process all XML files in the given directory and filter Q&A pairs.\n",
    "    \"\"\"\n",
    "    all_filtered_data = []\n",
    "    \n",
    "    for file_name in os.listdir(directory):\n",
    "        if file_name.endswith(\".xml\"):\n",
    "            file_path = os.path.join(directory, file_name)\n",
    "            filtered_data = extract_qa_from_xml(file_path)\n",
    "            all_filtered_data.extend(filtered_data)\n",
    "    \n",
    "    # Convert to DataFrame\n",
    "    if all_filtered_data:\n",
    "        df = pd.DataFrame(all_filtered_data)\n",
    "        output_path = os.path.join(directory, \"filtered_qa_acne_eczema_psoriasis.xlsx\")\n",
    "        df.to_excel(output_path, index=False)\n",
    "        print(f\"Filtered data saved to {output_path}\")\n",
    "    else:\n",
    "        print(\"No relevant data found.\")\n",
    "\n",
    "# Specify the directory containing the XML files\n",
    "directory_path = \"D:\\FYP\\datasets\\Github\\All Datasets\\MedQud\\MedQuAD-master\\1_CancerGov_QA\"\n",
    "process_directory(directory_path)\n"
   ]
  }
 ],
 "metadata": {
  "kernelspec": {
   "display_name": "Python 3 (ipykernel)",
   "language": "python",
   "name": "python3"
  },
  "language_info": {
   "codemirror_mode": {
    "name": "ipython",
    "version": 3
   },
   "file_extension": ".py",
   "mimetype": "text/x-python",
   "name": "python",
   "nbconvert_exporter": "python",
   "pygments_lexer": "ipython3",
   "version": "3.12.5"
  }
 },
 "nbformat": 4,
 "nbformat_minor": 5
}
