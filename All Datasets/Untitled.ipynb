{
 "cells": [
  {
   "cell_type": "code",
   "execution_count": 6,
   "id": "d5df7d49-02b7-403d-a2fb-c68c039cdcb6",
   "metadata": {},
   "outputs": [
    {
     "name": "stdout",
     "output_type": "stream",
     "text": [
      "Collecting openpyxl\n",
      "  Downloading openpyxl-3.1.5-py2.py3-none-any.whl.metadata (2.5 kB)\n",
      "Collecting et-xmlfile (from openpyxl)\n",
      "  Downloading et_xmlfile-2.0.0-py3-none-any.whl.metadata (2.7 kB)\n",
      "Downloading openpyxl-3.1.5-py2.py3-none-any.whl (250 kB)\n",
      "Downloading et_xmlfile-2.0.0-py3-none-any.whl (18 kB)\n",
      "Installing collected packages: et-xmlfile, openpyxl\n",
      "Successfully installed et-xmlfile-2.0.0 openpyxl-3.1.5\n",
      "Note: you may need to restart the kernel to use updated packages.\n"
     ]
    },
    {
     "name": "stderr",
     "output_type": "stream",
     "text": [
      "WARNING: Ignoring invalid distribution ~umpy (C:\\Users\\Ahmed Ali\\AppData\\Local\\Programs\\Python\\Python312\\Lib\\site-packages)\n",
      "WARNING: Ignoring invalid distribution ~umpy (C:\\Users\\Ahmed Ali\\AppData\\Local\\Programs\\Python\\Python312\\Lib\\site-packages)\n",
      "WARNING: Ignoring invalid distribution ~umpy (C:\\Users\\Ahmed Ali\\AppData\\Local\\Programs\\Python\\Python312\\Lib\\site-packages)\n",
      "\n",
      "[notice] A new release of pip is available: 24.2 -> 24.3.1\n",
      "[notice] To update, run: python.exe -m pip install --upgrade pip\n"
     ]
    }
   ],
   "source": [
    "pip install openpyxl"
   ]
  },
  {
   "cell_type": "code",
   "execution_count": 11,
   "id": "c4ed7697-13d6-4e57-9968-449607adaad3",
   "metadata": {},
   "outputs": [
    {
     "name": "stdout",
     "output_type": "stream",
     "text": [
      "Filtered data has been saved to MEDIQA_Train2_filtered.xlsx\n"
     ]
    }
   ],
   "source": [
    "import xml.etree.ElementTree as ET\n",
    "import pandas as pd\n",
    "\n",
    "# Path to the XML file\n",
    "xml_file = r\"D:\\FYP\\datasets\\Github\\All Datasets\\MedIQA2019\\MEDIQA2019-Task3-QA-TrainingSet2-Alexa.xml\"\n",
    "\n",
    "# Parse the XML file\n",
    "tree = ET.parse(xml_file)\n",
    "root = tree.getroot()\n",
    "\n",
    "# List to store filtered question-answer pairs\n",
    "filtered_data = []\n",
    "\n",
    "# Keywords to filter\n",
    "keywords = [\"acne\", \"eczema\", \"psoriasis\"]\n",
    "\n",
    "# Iterate through the XML structure\n",
    "for question in root.findall(\"Question\"):\n",
    "    question_text = question.find(\"QuestionText\").text.lower()\n",
    "    \n",
    "    # Check if the question contains any of the keywords\n",
    "    if any(keyword in question_text for keyword in keywords):\n",
    "        for answer in question.find(\"AnswerList\"):\n",
    "            answer_text = answer.find(\"AnswerText\").text\n",
    "            filtered_data.append({\n",
    "                \"QuestionID\": question.attrib.get(\"QID\"),\n",
    "                \"QuestionText\": question_text,\n",
    "                \"AnswerText\": answer_text\n",
    "            })\n",
    "\n",
    "# Convert the filtered data to a DataFrame\n",
    "df_filtered = pd.DataFrame(filtered_data)\n",
    "\n",
    "# Save the filtered data to an Excel file\n",
    "output_file = \"MEDIQA_Train2_filtered.xlsx\"\n",
    "df_filtered.to_excel(output_file, index=False)\n",
    "\n",
    "print(f\"Filtered data has been saved to {output_file}\")\n"
   ]
  },
  {
   "cell_type": "code",
   "execution_count": null,
   "id": "ee209993-8786-403c-bc32-d37303c82926",
   "metadata": {},
   "outputs": [],
   "source": []
  }
 ],
 "metadata": {
  "kernelspec": {
   "display_name": "Python 3 (ipykernel)",
   "language": "python",
   "name": "python3"
  },
  "language_info": {
   "codemirror_mode": {
    "name": "ipython",
    "version": 3
   },
   "file_extension": ".py",
   "mimetype": "text/x-python",
   "name": "python",
   "nbconvert_exporter": "python",
   "pygments_lexer": "ipython3",
   "version": "3.12.5"
  }
 },
 "nbformat": 4,
 "nbformat_minor": 5
}
