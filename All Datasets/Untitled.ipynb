{
 "cells": [
  {
   "cell_type": "code",
   "execution_count": 1,
   "id": "c4ed7697-13d6-4e57-9968-449607adaad3",
   "metadata": {},
   "outputs": [
    {
     "name": "stdout",
     "output_type": "stream",
     "text": [
      "Filtered data saved to filtered_mashqa.csv\n"
     ]
    }
   ],
   "source": [
    "import json\n",
    "import pandas as pd\n",
    "\n",
    "# Define the keywords to filter\n",
    "keywords = ['Acne', 'Eczema', 'Psoriasis']\n",
    "\n",
    "# Function to filter questions and answers\n",
    "def filter_qa_by_keywords(data, keywords):\n",
    "    filtered_qa_data = []\n",
    "    for article in data['data']:\n",
    "        for paragraph in article['paragraphs']:\n",
    "            for qa in paragraph['qas']:\n",
    "                question = qa.get('question', '').lower()\n",
    "                answers = [answer.get('text', '').lower() for answer in qa.get('answers', [])]\n",
    "                \n",
    "                # Check if the keywords are in the question or any of the answers\n",
    "                if any(keyword.lower() in question for keyword in keywords) or \\\n",
    "                   any(any(keyword.lower() in answer for keyword in keywords) for answer in answers):\n",
    "                    filtered_qa_data.append({\n",
    "                        'url': qa.get('url', ''),\n",
    "                        'id': qa.get('id', ''),\n",
    "                        'question': qa.get('question', ''),\n",
    "                        'answers': qa.get('answers', []),\n",
    "                        'is_impossible': qa.get('is_impossible', False)\n",
    "                    })\n",
    "    return filtered_qa_data\n",
    "\n",
    "# Load the dataset\n",
    "input_file_path = r'D:\\FYP\\datasets\\Github\\All Datasets\\mashqa_dataset\\train_webmd_squad_v2_full.json'  # Replace with your input file path\n",
    "output_file_path = 'filtered_mashqa.csv'  # Output file path\n",
    "\n",
    "with open(input_file_path, 'r') as file:\n",
    "    data = json.load(file)\n",
    "\n",
    "# Filter the dataset\n",
    "filtered_data = filter_qa_by_keywords(data, keywords)\n",
    "\n",
    "# Convert the filtered data to a DataFrame and save as CSV\n",
    "filtered_df = pd.DataFrame(filtered_data)\n",
    "filtered_df.to_csv(output_file_path, index=False)\n",
    "\n",
    "print(f\"Filtered data saved to {output_file_path}\")\n"
   ]
  }
 ],
 "metadata": {
  "kernelspec": {
   "display_name": "Python 3 (ipykernel)",
   "language": "python",
   "name": "python3"
  },
  "language_info": {
   "codemirror_mode": {
    "name": "ipython",
    "version": 3
   },
   "file_extension": ".py",
   "mimetype": "text/x-python",
   "name": "python",
   "nbconvert_exporter": "python",
   "pygments_lexer": "ipython3",
   "version": "3.12.5"
  }
 },
 "nbformat": 4,
 "nbformat_minor": 5
}
