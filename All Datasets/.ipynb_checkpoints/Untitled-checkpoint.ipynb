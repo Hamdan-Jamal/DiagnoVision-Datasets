{
 "cells": [
  {
   "cell_type": "code",
   "execution_count": 2,
   "id": "c4ed7697-13d6-4e57-9968-449607adaad3",
   "metadata": {},
   "outputs": [
    {
     "name": "stdout",
     "output_type": "stream",
     "text": [
      "Filtered data saved to filtered_qa_acne_eczema_psoriasis.csv\n"
     ]
    }
   ],
   "source": [
    "import xml.etree.ElementTree as ET\n",
    "import pandas as pd\n",
    "\n",
    "# Define keywords for filtering\n",
    "keywords = ['Acne', 'Eczema', 'Psoriasis']\n",
    "\n",
    "# Function to parse XML and extract questions and answers\n",
    "def parse_and_filter_xml(file_path, keywords):\n",
    "    tree = ET.parse(file_path)\n",
    "    root = tree.getroot()\n",
    "\n",
    "    qa_list = []\n",
    "\n",
    "    for qapair in root.findall(\".//QAPair\"):\n",
    "        question_text = qapair.find('Question').text.strip() if qapair.find('Question') is not None else \"\"\n",
    "        for answer in qapair.findall('Answer'):\n",
    "            answer_text = answer.text.strip() if answer is not None else \"\"\n",
    "\n",
    "            # Check if the question or answer contains any of the keywords\n",
    "            if any(keyword.lower() in question_text.lower() for keyword in keywords) or \\\n",
    "               any(keyword.lower() in answer_text.lower() for keyword in keywords):\n",
    "                qa_list.append({\n",
    "                    'question': question_text,\n",
    "                    'answer': answer_text\n",
    "                })\n",
    "\n",
    "    return qa_list\n",
    "\n",
    "# List of input files to process\n",
    "file_paths = [\n",
    "    r'D:\\FYP\\datasets\\Github\\All Datasets\\MEDIQA2019-Task3-QA-TrainingSet2-Alexa.xml',\n",
    "    r'D:\\FYP\\datasets\\Github\\All Datasets\\MEDIQA2019-Task3-QA-ValidationSet.xml',\n",
    "    r'D:\\FYP\\datasets\\Github\\All Datasets\\MEDIQA2019-Task3-QA-TestSet.xml',\n",
    "    r'D:\\FYP\\datasets\\Github\\All Datasets\\MEDIQA2019-Task3-QA-TestSet-wLabels.xml',\n",
    "    r'D:\\FYP\\datasets\\Github\\All Datasets\\MEDIQA2019-Task3-QA-TrainingSet1-LiveQAMed.xml'\n",
    "]\n",
    "\n",
    "# Collect filtered QA pairs from all files\n",
    "all_filtered_qa = []\n",
    "\n",
    "for file_path in file_paths:\n",
    "    filtered_qa = parse_and_filter_xml(file_path, keywords)\n",
    "    all_filtered_qa.extend(filtered_qa)\n",
    "\n",
    "# Convert the collected data to a DataFrame\n",
    "filtered_df = pd.DataFrame(all_filtered_qa)\n",
    "\n",
    "# Save the filtered dataset to a CSV file\n",
    "output_csv_path = 'filtered_qa_acne_eczema_psoriasis.csv'\n",
    "filtered_df.to_csv(output_csv_path, index=False)\n",
    "\n",
    "print(f\"Filtered data saved to {output_csv_path}\")\n"
   ]
  },
  {
   "cell_type": "code",
   "execution_count": null,
   "id": "ee209993-8786-403c-bc32-d37303c82926",
   "metadata": {},
   "outputs": [],
   "source": []
  }
 ],
 "metadata": {
  "kernelspec": {
   "display_name": "Python 3 (ipykernel)",
   "language": "python",
   "name": "python3"
  },
  "language_info": {
   "codemirror_mode": {
    "name": "ipython",
    "version": 3
   },
   "file_extension": ".py",
   "mimetype": "text/x-python",
   "name": "python",
   "nbconvert_exporter": "python",
   "pygments_lexer": "ipython3",
   "version": "3.12.5"
  }
 },
 "nbformat": 4,
 "nbformat_minor": 5
}
